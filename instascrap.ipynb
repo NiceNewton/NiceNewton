{
  "cells": [
    {
      "cell_type": "markdown",
      "metadata": {
        "id": "view-in-github",
        "colab_type": "text"
      },
      "source": [
        "<a href=\"https://colab.research.google.com/github/NiceNewton/NiceNewton/blob/main/instascrap.ipynb\" target=\"_parent\"><img src=\"https://colab.research.google.com/assets/colab-badge.svg\" alt=\"Open In Colab\"/></a>"
      ]
    },
    {
      "cell_type": "code",
      "execution_count": null,
      "metadata": {
        "colab": {
          "background_save": true,
          "base_uri": "https://localhost:8080/"
        },
        "id": "FEYncKKdlO-3",
        "outputId": "9d80bc95-ecf1-4302-97e1-bc749975586a"
      },
      "outputs": [
        {
          "name": "stdout",
          "output_type": "stream",
          "text": [
            "Requirement already satisfied: instaloader in /usr/local/lib/python3.10/dist-packages (4.14)\n",
            "Requirement already satisfied: requests>=2.25 in /usr/local/lib/python3.10/dist-packages (from instaloader) (2.32.3)\n",
            "Requirement already satisfied: charset-normalizer<4,>=2 in /usr/local/lib/python3.10/dist-packages (from requests>=2.25->instaloader) (3.4.0)\n",
            "Requirement already satisfied: idna<4,>=2.5 in /usr/local/lib/python3.10/dist-packages (from requests>=2.25->instaloader) (3.10)\n",
            "Requirement already satisfied: urllib3<3,>=1.21.1 in /usr/local/lib/python3.10/dist-packages (from requests>=2.25->instaloader) (2.2.3)\n",
            "Requirement already satisfied: certifi>=2017.4.17 in /usr/local/lib/python3.10/dist-packages (from requests>=2.25->instaloader) (2024.8.30)\n",
            "Login successful!\n",
            "<class 'instaloader.structures.Profile'>\n",
            "Username:  14935newton\n",
            "User ID:  25337974338\n",
            "Number of Posts:  55\n",
            "Followers:  485\n",
            "Followees:  441\n",
            "Bio:  #Pokemon fan\n",
            "#onepiecefan\n",
            "#MCU fan None\n",
            "['karankrishna7196', 'anishprajapati8133', '__.anurag_raj.__', 'rounakpathak84', 'ashutosh_hu_maii', 'sneaux_17_02', 'n_oops29', 'abhi77rajput', 'ayushii._singhh_', '_jain.samarth', 'abdullah_.ahsan', 'singh_jee________', '0_0uttam', 'saksham_mahajan24__', 'shreya_bhadaniis', 'shouryasinha2', 'khushiii_vermaa', '__udit.ojha__', 'rosh_agrawal24', 'death_metal_creature', 'srishtiagrawal0513', 'jnnine_j', 'sad.pixls_', 'nothingxtoxsay617', 'imgungunn_', 'swastik3420', 'harsh._17172', 'sania.mejaz99', 'sammridhii914', 'richax0', 'devyansh_2507', 'mahwish_hashmii', 'arin.roy_', 'sucharita.10', 'slice_of_meow', 'indiastory1981', '5nature_pixls', 'barunjarj143', '___pikachu__786', 'sinha_shreya_', 'chikku_kukuku', 'just_a.samurai', 'skk47361', 'skiddy.tf', 'voyagerofdark', 'lenx52.ae', '_sejall10', 'beinformed24hrs', 'akhil_singh54', 'ritu28mayuri', 'lukefieldhouse90', 'sanidhyasnh', 'stoopid_duck_draws', 'jh4bhishek', 'pra.dip_98', 'bineet_._', 'ai_cutie_pets', 'ultimate_slimwell', 'paintingloverusa', 'piyush_verma.77', 'akayatish', 'jayash_shankar__', 'irshad_ahmad3049', 'pandaloversgram', 'priyanx_', 'aestetic_magali', 'singh__suman7', '__.sobhit.__', 'pranaykrverma', 'saanophile', 'prone.so', 'anand._.pvtt', '_sneha._.gupta._', '_gautam_kishan', 'lucky_akash_akr', 'sahil__infinity', 'afzal_s20', 'space_walker.sc004', 'sumedh_4587', 'shreyanshmishra_7', 'ramsha_junaib', 'shruyansh_sinha_7', 'joyboy.monkeydluffy', 'shubhamrsd', 's.kunal03', 'harshraj._.27', 'sonuuu_yadavv', '_sahil07._', 'the_moon_is__', '_srishti_1207', 'madaneeyy', 'nishantfredrick', 'khan_ayesha_655', 'mantashafayza', 'shesaakshi', 'itz__muskiiiii', 'carlinhoskira', 'sunny_raj_619', 'ani.voib', 'samridhidixit649', 'dileovincent', 'prince____yaduvanshi24', 'khan_daniya28', 'himvnshn', 'im_raunak01', 'otakus_artes', '_palllaviii__', '_gyanvi.109', 'adiva_rafiq', 'so._.somya', 'otaku_artes_br', 'anirudha1001dey', '44diitya.sinha', 'desenhotimo', 'mangav.id', 'saancassm', 'arpana.k16', '1_saturo_gojo__', 'vish_.shrm', 'tripathiiarpit', 'sidhant_.20', 'shouryjeetgupta', 'aditya_raj1206', 'anas__mustafa', '4f7_41_', 'sanatta', 'fanartanimebrasil', '_artbydesimunda', '_.muskan_k_', 'sai_chithkala_9', 'aaravvv_005', 'realistic.__art', 'singh23soumya', 'silencepika', 'yuvrajsinha17', 'scertlife_09', 'jyotiprakash__panda', 'tushar67_0', 'soumyaroy003', 'anya_an7', 'prasoon.kr2', '_sharim_khan_', 'pratham_0.4', 'sanchariikaa', 'spinnnnach', '_triptiagarwal_', 'sania_agarwal_', '_.gaurav_pandey_', 'apekshamishra953', 'avishek_0456', 'buisnessman__01', 'the_sauce.sensei', 'chinmay__ranjan', 'azeemsaifi252', 'she_talks_shi', '_._khushi_anand_._', 'lopamudra509', 'priyanshu.sinha.3762', '12.d28', 'amn_sassyy_1', 'khushi.vndsingh', 'homosapien6461', 'secret_agent_21', 'anveshmusic', 'vanshikaa_sinha', 'rishiraj._18', 'aamrita_017', 'ranishasinhahaha', 'sinha_nandiniii', 'sinha036sinha', 'iamrohanchatterjee', '__shivu21', 'hectokshi_87', 'ritoban__', 'ankita_singh_023', 'sangyyy_25', 'prince__5603', 'mr._ecentrik', 'sleekymant', 'shibangi_3002', 'lucifer15_14', '_real.suraj_', 'shresthinpeace', '_kashishkandhari_', 'swastikadata', '_adarsh.rathore', 'shresth.himself', 'shuchita_bhardwaj', 'shriyasamridhi', 'utsav_singh_rajput_', 'sambeet_panda', '__navneet__001', 'roshni_agrawal04', 'shekhar_0802', 'shivam__singh__1', 'hasanateeb_10', 'aneeque_rahmat', 'raina._.khan', 'snl_rt', 'm_sakksham', 'chahat_baranwal_', 'rchit77', 'pushkar_hk', '_why.roy_', 'affanarshad_007', '_._nidhi.__._', '__zoyaakhann', 'haamz.x', 'khushii.2123', 'palenzoaditya_95', '_akanshasinha_46', '__anshik.aa__', 'abhidnya_bodhi', 'ashu.toshchaurasia', '_.sassyvibes.____', 'btsa.rmy5266', 'shivamrajput._0', 'abhi89830', '_vickyraj__', 'abhidnyabodhi', 'amitya560', 'trap_lee_sparta3', 'sabal2369', 'rk8859032', 'ala.kaso', 'jk.tr3n7', 'cagahon245', 'gamerbabu459', 'jagaur20we', 'm_o_s_c.a.3', 'jsjsb9013', 'naol4047', 'uwuuajahhwhwjw', 'husanboymahmudov12345', 'kagada13_', 'jlllb34', 'gemo8n.8', 'ssssdddd883', 'hg85.68', 'shinobu55566', 'tttttttttttrfnfvdv', 'mard_7707', 'aljdbdhd', 'oms9391', 'maddog8877', 'rubarumah', 'rahaaaa_13826', 'svsisidh', 'f1299m', 'yasj8127', 'jil__mum_380', 'mojahed___eslam___877', 'lji984', 'khere740', 'ueurhrh7', 'saman444458', 'miss___queen___455838382', 'mkom_ani', 'ni._mare', 'vhsjjshhs', 'vhchg101010', 'sanababa135', 'parit_awade', 'adnan13292', 'uuui4033', 'tut.uls', 'brosle_hat16', 'aminaamouna__333', 'rihxibr', '2v198', 'ayllasantosoficial', 'groub4b44', 'gorcehhfe', 'vvb9659', 'ruhin1850', 'mrfonahhgg', '25li_r', 'sauravjoshivlogs81', 'llpp_12_lp', 'rocisi9939', 'ali.hasani693', 'apk3410', 'faf16226', 'bguh.fd', 'vivob_n', 'gustavoo1055', 'babujaan8633', 'kiakako.s', 'ramebabujii', 'mrnoahkun._', 'peince4066', 'prat_ap231', 'abhi.12543', 'kato173040', 'bilgi1501', 'bozzo271', 'street.of.prayagraj', 'kumarvinay72120', 'anaya.mehta8191', 'popbb61', 'periyanka___sharma007', 'divya__yadav__09', 'kali_linux_07', 'thepriya544', 'itz_devil_boy_108_', 'rrrrr43_1', 'lolipop_____1234', 'wk_8i3', 'rihanna676446', 'simp_dps', 'khrzy371', 'hakanylc0', 'ola80.80', 'q7lli__', 'canc.an6789', 'ucan7000', 'fxr658', 'kind_of_heart99', 'lege_nd4928', '5kv47', 'reda1111165', 'plmnbvcxzaq1116', 'alisha_khan_67866', 'chudghjy', 'misskismix', 'ufu4247', 'mahm.od8385', 'tryany1', 'maliba345', 'refu.gee11', 'mlpk663', '_ar_i_yan_', '_hamad.arshad', 'farhan._7_', 'uchiha_______obito____________', 'lucysumanmehta', 'ashish_lohani.246', 'tremendous_thoughts_', 'zoha4268', 'rounak5615', 'adiz0440', 'kumar__amrit___', 'mahiii_._18', '__._shikha', 'priya881100', 'sarthakkumar6020', 'dilshadalam861', 'ishaanjha56', 'lusifer_the_snake', 'jatt_040707', 'pikachu5plus', 'riddhs09', 'rajansh0212', 'aklove___k', 'arohi_raj.put', '9976.rehan', 'harsh_nag_01', 'mishraarpitkumar2021', 'quti958', 'manya_kumari.singh_17', 'aaya.n2648', 'mr_sachin_chaudhary_097', '_.ankit_singhh._', 'khusshiiy', 'ammaaaaaannnn', 'roy_arpita_011', 'manaseui', 'anandpushkar22', 'notyourthing69', 'all_intertainment1', '_ar_i_y_an', 'i.shita.deen', 'pinkgirl8860', '_mayankkmk.7', '_priyanshu.roy', 'franshu_barnwal_', 'vajpayeeabhinav', 'chahat_982', 'bettercallrishabh', 'erorrrrr_90', 'anne_kinglord_sso', 'fiit.jee.7', 'r.o.c.k.y_123', 'shreyaa_727', 'lauryn_pereira96', 'bachpan.__', 'u.dnt_know_me', '_ayush.fr', '__ishant_sinha__', 'sonu_kumar_surjit_', 'h__ritik_', 'siddhivinayak109', '_just_shivam__', 'its_aman_o4', 'tanmay_150_', 'shabanakhan5272', 'khusnain371', '_s1911_', 'harshraj27012005', 'aadil_rajput_07', 'sirajmansuri9212020', 'kay.ladall', 'ajazkhan3450', 'khusboomukesh329', 'myclicks28', 'wow.kshitij', 'sidra_fatima_7869', 'priyu7286', 'pathan_ji_001', 'pencil_.art._1', 'raushan27092001', 'daniya_khan_28', 'sifesh_kumar', '_babuaan_55_', 'sanjanaa.k23', 'v_ruatzz', '_sanskar01_', 'kashish_sinha07', 'gupta_leisha', 'adarshbandhu123456789', 'najmur_raham_siam', 'ryya.56', '_shubhhh.07', '7777786hi', 'ayush__br02_52', 'shristi__sinha__', 'cupie_neeva', '__chitraka__', 'bevda_vs_charsi', 'murtaza.khoso.5891', 'kumari.nitika1995', 'magadh_se_hain', 'r12.7_q', 'crew_captures_', 'sanjana_sahay.04', 'aryansagar905', 'hum_gaya_waale', 'surbhisingh_27', 'artcontestlive', 'sunshine2004_', 'anitya_parmar', 'priyanshu_rajjj13', 'itcanbeempty', 'pritishsinhaaa', 'utsavdeep_04', 'the.study.table', 'tusharikamishra27', 'mithiii_1', 'art_mart_by_tanya', 'vidushi_priyaa', 'manya_kumari_singh_6846', 'selfish__heart___', '_marrryyy_ambastha', 'k_khushi_23', 'masha0810__', '__zoyaa_._', 'pre_samurai', 'saurabh7129kumar', 'crea.tiveland2020', '__harsh__raj__2.0', 'sart.hak620', 'pixie_cheeks09', 'prina_shu', 'special_lohani_7', 'rakshitsverma', 'ifeelaadarsh', 'model.s10', '__memes__e__vidyalaye__', 'itz_mks.17_', '_elation._', 'naresh.paramar.9678', 'mayankroy6694', 'aryannraajj', 'born_star_shadow', 'z_shahid_786', 'raj._mayank_', 'creaneites', 'aadya_shree__', 'itzzharshraj._.27', 'sky.lyy17', 'shahbazmqllick', '_aditya_raj__07', 'chandramani.kumar.16547', 'pranshu._.kk', 'naman._0216']\n"
          ]
        }
      ],
      "source": [
        "!pip install instaloader --upgrade # Upgrade instaloader to the latest version\n",
        "import instaloader\n",
        "\n",
        "bot = instaloader.Instaloader()\n",
        "\n",
        "# Replace \"your_username\" and \"your_password\" with your actual Instagram credentials\n",
        "username = \"14935newton\"\n",
        "password = \"password\"\n",
        "\n",
        "try:\n",
        "    bot.login(user=username, passwd=password)\n",
        "    print(\"Login successful!\")\n",
        "except instaloader.exceptions.LoginRequiredException:\n",
        "    print(\"Login required. Please provide correct credentials.\")\n",
        "except instaloader.exceptions.TwoFactorAuthRequiredException:\n",
        "    print(\"Two-factor authentication is required. Please follow the prompts.\")\n",
        "    # If 2FA is enabled, you'll need to handle it here.\n",
        "    # You can use bot.interactive_login(username) for interactive login,\n",
        "    # or implement your own 2FA handling logic.\n",
        "except instaloader.exceptions.LoginException as e:\n",
        "    print(f\"Login failed: {e}\")\n",
        "    # If login fails for other reasons, print the error message for debugging.\n",
        "\n",
        "# Only proceed if login was successful\n",
        "# Use bot.context.is_logged_in to check login status\n",
        "if bot.context.is_logged_in:\n",
        "    try:\n",
        "        profile = instaloader.Profile.from_username(bot.context, '14935newton')\n",
        "\n",
        "        print(type(profile))\n",
        "\n",
        "        print(\"Username: \", profile.username)\n",
        "        print(\"User ID: \", profile.userid)\n",
        "        print(\"Number of Posts: \", profile.mediacount)\n",
        "        print(\"Followers: \", profile.followers)\n",
        "        print(\"Followees: \", profile.followees)\n",
        "        print(\"Bio: \", profile.biography, profile.external_url)\n",
        "\n",
        "        # Ensure you are logged in before getting followers\n",
        "        if bot.context.is_logged_in:\n",
        "            followers = [follower.username for follower in profile.get_followers()]\n",
        "            # Retrieve the usernames of all followees\n",
        "            followees = [followee.username for followee in profile.get_followees()]\n",
        "            print(followers)\n",
        "        else:\n",
        "            print(\"Not logged in, cannot retrieve followers/followees.\")\n",
        "    except instaloader.exceptions.AbortDownloadException as e:\n",
        "        print(f\"Error fetching profile data: {e}\")\n",
        "        print(\"This might be due to a session expiration or network issue. \"\n",
        "              \"Try logging in again or waiting a few minutes.\")\n",
        "    except instaloader.exceptions.LoginRequiredException as e:\n",
        "        print(f\"Login required to get followers/followees: {e}\")\n",
        "        print(\"Please ensure you are logged in and the session is still active.\")\n",
        "else:\n",
        "    print(\"Could not log in. Skipping profile retrieval.\")"
      ]
    },
    {
      "cell_type": "code",
      "execution_count": 20,
      "metadata": {
        "colab": {
          "base_uri": "https://localhost:8080/"
        },
        "id": "oWpUfEFXlw7Q",
        "outputId": "7ae0de2a-29b3-46f6-87f8-002e2e010e4f"
      },
      "outputs": [
        {
          "output_type": "stream",
          "name": "stdout",
          "text": [
            "14935newton_1/2020-12-22_20-22-29_UTC.jpg [My first ever english poem I …] json \n",
            "14935newton_2/2020-12-21_18-23-43_UTC.jpg [Memory of school🎒📚] 14935newton_2/2020-12-21_18-23-43_UTC.mp4 json \n",
            "14935newton_3/2020-11-02_14-57-06_UTC.jpg [A legend singer of all time] 14935newton_3/2020-11-02_14-57-06_UTC.mp4 json \n",
            "14935newton_4/2020-10-20_17-12-49_UTC.jpg json \n",
            "14935newton_5/2020-10-20_17-00-00_UTC.jpg [Every time u look at sky u ca…] json \n",
            "14935newton_6/2020-10-11_06-18-40_UTC.jpg [Memories of hyderabad tour] json \n",
            "14935newton_7/2020-08-29_11-24-36_UTC.jpg json \n",
            "14935newton_8/2020-08-24_11-18-52_UTC.jpg [Pika pika] json \n",
            "14935newton_9/2020-08-16_13-09-19_UTC.jpg json \n",
            "14935newton_10/2020-08-16_13-09-00_UTC.jpg [View] json \n",
            "14935newton_11/2020-08-16_13-07-45_UTC.jpg [Sun set] json \n",
            "14935newton_12/2020-08-11_10-13-25_UTC.jpg [Pika pika] json \n",
            "14935newton_13/2020-08-10_12-42-34_UTC.jpg json \n",
            "14935newton_14/2020-08-10_12-41-06_UTC.jpg [Sun set] json \n",
            "14935newton_15/2020-08-03_14-48-43_UTC.jpg 14935newton_15/2020-08-03_14-48-43_UTC.mp4 json \n",
            "14935newton_16/2020-08-02_15-14-44_UTC.jpg [Spider] json \n",
            "14935newton_17/2020-08-02_15-06-18_UTC.jpg [Ant] json \n",
            "14935newton_18/2020-07-19_17-08-30_UTC.jpg [The drawing has a special par…] json \n",
            "14935newton_19/2020-07-19_16-36-39_UTC.jpg json \n",
            "14935newton_20/2020-07-19_16-30-18_UTC.jpg json \n",
            "14935newton_21/2020-07-19_16-27-26_UTC_1.jpg 14935newton_21/2020-07-19_16-27-26_UTC_2.jpg 14935newton_21/2020-07-19_16-27-26_UTC_3.jpg 14935newton_21/2020-07-19_16-27-26_UTC_4.jpg 14935newton_21/2020-07-19_16-27-26_UTC_5.jpg [Some of my old photos  Pika p…] json \n",
            "14935newton_22/2020-06-30_15-59-39_UTC.jpg [After a long time with topper] json \n",
            "14935newton_23/2020-06-28_16-05-17_UTC.jpg [ꉣ꒐ꀘꋬ ꉣ꒐ꀘꋬ] json \n",
            "14935newton_24/2020-06-27_13-26-46_UTC_1.jpg 14935newton_24/2020-06-27_13-26-46_UTC_2.jpg 14935newton_24/2020-06-27_13-26-46_UTC_3.jpg 14935newton_24/2020-06-27_13-26-46_UTC_4.jpg 14935newton_24/2020-06-27_13-26-46_UTC_5.jpg [After a long time out] json \n",
            "14935newton_25/2020-06-23_15-55-56_UTC.jpg json \n",
            "14935newton_26/2020-06-23_15-55-18_UTC.jpg [Kid joker] json \n",
            "14935newton_27/2020-06-17_16-50-50_UTC.jpg [Tried for a portrait but not …] json \n",
            "14935newton_28/2020-06-16_09-10-06_UTC.jpg [#Funny form of old memories  …] json \n",
            "14935newton_29/2020-06-14_15-13-42_UTC.jpg [Pika pika😊 #colourpencilart] json \n",
            "14935newton_30/2020-06-11_15-56-20_UTC.jpg [Eye of nature  # 50th drawing…] json \n",
            "14935newton_31/2020-06-10_04-09-13_UTC.jpg [Pika pika🙂] json \n",
            "14935newton_32/2020-06-05_07-57-55_UTC.jpg [#brofromLKG My brother] json \n",
            "14935newton_33/2020-04-29_08-52-59_UTC.jpg [Tried it after a long time pi…] json \n",
            "14935newton_34/2020-04-29_00-19-25_UTC.jpg [Snap of the sun flowers 🤣😂🤣😂🤣] json \n",
            "14935newton_35/2020-04-28_08-55-21_UTC.jpg [Cute bird pika pi] json \n",
            "14935newton_36/2020-04-18_10-30-32_UTC.jpg [#choose one of the sky you want] json \n",
            "14935newton_37/2020-04-18_10-29-37_UTC_1.jpg 14935newton_37/2020-04-18_10-29-37_UTC_2.jpg json \n",
            "14935newton_38/2020-04-18_10-27-44_UTC_1.jpg 14935newton_38/2020-04-18_10-27-44_UTC_2.jpg 14935newton_38/2020-04-18_10-27-44_UTC_3.jpg 14935newton_38/2020-04-18_10-27-44_UTC_4.jpg 14935newton_38/2020-04-18_10-27-44_UTC_5.jpg 14935newton_38/2020-04-18_10-27-44_UTC_6.jpg 14935newton_38/2020-04-18_10-27-44_UTC_7.jpg 14935newton_38/2020-04-18_10-27-44_UTC_8.jpg 14935newton_38/2020-04-18_10-27-44_UTC_9.jpg 14935newton_38/2020-04-18_10-27-44_UTC_10.jpg [#my drawing in class 10 and d…] json \n",
            "14935newton_39/2020-04-17_13-36-34_UTC.jpg json \n",
            "14935newton_40/2020-04-17_13-02-42_UTC.jpg json \n",
            "14935newton_41/2020-04-17_13-02-25_UTC.jpg json \n",
            "14935newton_42/2020-04-17_07-01-27_UTC.jpg json \n",
            "14935newton_43/2020-04-17_07-01-14_UTC.jpg json \n",
            "14935newton_44/2020-04-16_09-16-57_UTC.jpg json \n",
            "14935newton_45/2020-04-16_09-16-41_UTC.jpg json \n",
            "14935newton_46/2020-04-16_09-16-31_UTC.jpg json \n",
            "14935newton_47/2020-04-05_16-29-36_UTC.jpg json \n",
            "14935newton_48/2020-04-03_15-18-13_UTC.jpg [Moon on my tip] json \n",
            "14935newton_49/2020-04-03_15-02-03_UTC.jpg [Pika pika] json \n",
            "14935newton_50/2020-03-24_11-51-08_UTC.jpg [😎🤘] json \n",
            "14935newton_51/2020-03-20_15-47-25_UTC.jpg [Night has a different magic o…] json \n",
            "14935newton_52/2020-03-20_12-58-37_UTC.jpg [\"Life have stop due to corona…] json \n",
            "14935newton_53/2020-03-06_21-03-23_UTC.jpg [Use inche otherwise you would…] json \n",
            "14935newton_54/2020-02-09_08-41-27_UTC_1.jpg 14935newton_54/2020-02-09_08-41-27_UTC_2.jpg 14935newton_54/2020-02-09_08-41-27_UTC_3.jpg 14935newton_54/2020-02-09_08-41-27_UTC_4.jpg 14935newton_54/2020-02-09_08-41-27_UTC_5.jpg [Last day party🎉🍻🎈] json \n",
            "14935newton_55/2019-12-01_18-53-35_UTC.jpg json \n"
          ]
        }
      ],
      "source": [
        "profile = instaloader.Profile.from_username(bot.context, '14935newton')\n",
        "\n",
        "# Get all posts in a generator object\n",
        "posts = profile.get_posts()\n",
        "\n",
        "# Iterate and download\n",
        "for index, post in enumerate(posts, 1):\n",
        "    bot.download_post(post, target=f\"{profile.username}_{index}\")"
      ]
    }
  ],
  "metadata": {
    "colab": {
      "provenance": [],
      "authorship_tag": "ABX9TyOD6kpHpoNg5MbRzoOMo27h",
      "include_colab_link": true
    },
    "kernelspec": {
      "display_name": "Python 3",
      "name": "python3"
    },
    "language_info": {
      "name": "python"
    }
  },
  "nbformat": 4,
  "nbformat_minor": 0
}
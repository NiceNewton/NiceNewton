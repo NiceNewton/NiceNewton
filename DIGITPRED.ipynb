{
  "nbformat": 4,
  "nbformat_minor": 0,
  "metadata": {
    "colab": {
      "provenance": [],
      "authorship_tag": "ABX9TyMNpMbpYpqw7K4QJGp5F4c/",
      "include_colab_link": true
    },
    "kernelspec": {
      "name": "python3",
      "display_name": "Python 3"
    },
    "language_info": {
      "name": "python"
    }
  },
  "cells": [
    {
      "cell_type": "markdown",
      "metadata": {
        "id": "view-in-github",
        "colab_type": "text"
      },
      "source": [
        "<a href=\"https://colab.research.google.com/github/NiceNewton/NiceNewton/blob/main/DIGITPRED.ipynb\" target=\"_parent\"><img src=\"https://colab.research.google.com/assets/colab-badge.svg\" alt=\"Open In Colab\"/></a>"
      ]
    },
    {
      "cell_type": "code",
      "execution_count": 23,
      "metadata": {
        "id": "AWi6TWnQEt9V"
      },
      "outputs": [],
      "source": [
        "# This Python 3 environment comes with many helpful analytics libraries installed\n",
        "# It is defined by the kaggle/python Docker image: https://github.com/kaggle/docker-python\n",
        "# For example, here's several helpful packages to load\n",
        "\n",
        "import numpy as np # linear algebra\n",
        "import pandas as pd # data processing, CSV file I/O (e.g. pd.read_csv)\n",
        "from matplotlib import pyplot as plt\n"
      ]
    },
    {
      "cell_type": "code",
      "source": [
        "number=pd.read_csv('train.csv.zip')"
      ],
      "metadata": {
        "id": "sJSuEtl2IKBI"
      },
      "execution_count": 24,
      "outputs": []
    },
    {
      "cell_type": "code",
      "source": [
        "number= np.array(number)\n",
        "m,n = number.shape\n",
        "np.random.shuffle(number)\n",
        "number_dev=number[0:1000].T\n",
        "y_dev=number_dev[0]\n",
        "x_dev=number_dev[1:n]\n",
        "x_dev=x_dev/255.\n",
        "number_train=number[1000:m].T\n",
        "y_train=number_train[0]\n",
        "x_train=number_train[1:n]\n",
        "x_train=x_train/255.\n",
        "_,m_train=x_train.shape\n"
      ],
      "metadata": {
        "id": "V0BrAVCZIRnK"
      },
      "execution_count": 25,
      "outputs": []
    },
    {
      "cell_type": "code",
      "source": [
        "import numpy as np\n",
        "def init_params():\n",
        "    w1=np.random.rand(10,784)- 0.5\n",
        "    b1=np.random.rand(10,1)-0.5\n",
        "    w2=np.random.rand(10,10)- 0.5\n",
        "    b2=np.random.rand(10,1)-0.5\n",
        "    return w1,b1,w2,b2\n",
        "def ReLU(z):\n",
        "    return np.maximum(0,z)\n",
        "def softmax(z):\n",
        "    z = z - np.max(z, axis=0, keepdims=True)\n",
        "    A = np.exp(z) / np.sum(np.exp(z), axis=0, keepdims=True)\n",
        "    return A\n",
        "\n",
        "def forward(w1, b1, w2, b2, x):\n",
        "    z1 = w1.dot(x) + b1\n",
        "    a1 = ReLU(z1)\n",
        "    z2 = w2.dot(a1) + b2\n",
        "    a2 = softmax(z2)\n",
        "    return z1, a1, z2, a2\n",
        "\n",
        "def one_hot(y):\n",
        "    one_hot_y = np.zeros((y.size, y.max() + 1))\n",
        "    one_hot_y[np.arange(y.size), y] = 1\n",
        "    one_hot_y = one_hot_y.T\n",
        "    return one_hot_y\n",
        "def deriv_ReLU(z):\n",
        "    return z>0\n",
        "def back(z1,a1,z2,a2,w1,w2,x,y):\n",
        "    one_hot_y=one_hot(y)\n",
        "    dz2=a2-one_hot_y\n",
        "    dw2=1/m*dz2.dot(a1.T)\n",
        "    db2=1/m*np.sum(dz2)\n",
        "    dz1=w2.T.dot(dz2)*deriv_ReLU(z1)\n",
        "    dw1=1/m*dz1.dot(x.T)\n",
        "    db1=1/m*np.sum(dz1)\n",
        "    return dw1,db1,dw2,db2\n",
        "def update_params(w1,b1,w2,b2,dw1,db1,dw2,db2,alpha):\n",
        "    w1=w1 -alpha*dw1\n",
        "    b1=b1 -alpha*db1\n",
        "    w2=w2 -alpha*dw2\n",
        "    b2=b2 -alpha*db2\n",
        "    return w1,b1,w2,b2\n"
      ],
      "metadata": {
        "id": "nW2HTnyjp1Vk"
      },
      "execution_count": 29,
      "outputs": []
    },
    {
      "cell_type": "code",
      "source": [
        "def get_predict(a2):\n",
        "    return np.argmax(a2, 0)\n",
        "\n",
        "def get_accuracy(prediction, y):\n",
        "    print(prediction, y)\n",
        "    return np.sum(prediction == y) / y.size\n",
        "def gradient_descent(x, y, iteration, alpha):\n",
        "    w1, b1, w2, b2 = init_params()\n",
        "    for i in range(iteration):\n",
        "        z1, a1, z2, a2 = forward(w1, b1, w2, b2, x)\n",
        "        dw1, db1, dw2, db2 = back(z1, a1, z2, a2,w1, w2,x,y)\n",
        "        w1, b1, w2, b2 = update_params(w1, b1, w2, b2, dw1, db1, dw2, db2, alpha)\n",
        "\n",
        "        if i % 10 == 0:\n",
        "            print(\"iteration: \", i)\n",
        "            prediction = get_predict(a2)\n",
        "            print(\"accuracy: \", get_accuracy(prediction, y))\n",
        "\n",
        "    return w1, b1, w2, b2\n",
        "\n"
      ],
      "metadata": {
        "id": "-X6W4vPNrgJR"
      },
      "execution_count": 30,
      "outputs": []
    },
    {
      "cell_type": "code",
      "source": [
        " w1,b1,w2,b2= gradient_descent(x_train , y_train, 500 ,0.1)"
      ],
      "metadata": {
        "colab": {
          "base_uri": "https://localhost:8080/"
        },
        "id": "HHLXSvmJImsN",
        "outputId": "1c06327b-7de7-4e15-893c-eab0708a1afa"
      },
      "execution_count": 31,
      "outputs": [
        {
          "output_type": "stream",
          "name": "stdout",
          "text": [
            "iteration:  0\n",
            "[5 5 7 ... 5 5 7] [7 2 4 ... 3 2 8]\n",
            "accuracy:  0.06139024390243902\n",
            "iteration:  10\n",
            "[3 8 7 ... 3 3 0] [7 2 4 ... 3 2 8]\n",
            "accuracy:  0.11390243902439025\n",
            "iteration:  20\n",
            "[3 8 7 ... 3 3 0] [7 2 4 ... 3 2 8]\n",
            "accuracy:  0.15551219512195122\n",
            "iteration:  30\n",
            "[3 8 7 ... 3 4 7] [7 2 4 ... 3 2 8]\n",
            "accuracy:  0.1872439024390244\n",
            "iteration:  40\n",
            "[3 2 7 ... 3 4 7] [7 2 4 ... 3 2 8]\n",
            "accuracy:  0.2249268292682927\n",
            "iteration:  50\n",
            "[3 2 7 ... 3 4 7] [7 2 4 ... 3 2 8]\n",
            "accuracy:  0.289390243902439\n",
            "iteration:  60\n",
            "[7 2 7 ... 3 4 7] [7 2 4 ... 3 2 8]\n",
            "accuracy:  0.36646341463414633\n",
            "iteration:  70\n",
            "[7 2 7 ... 3 4 7] [7 2 4 ... 3 2 8]\n",
            "accuracy:  0.4186829268292683\n",
            "iteration:  80\n",
            "[7 2 7 ... 0 4 7] [7 2 4 ... 3 2 8]\n",
            "accuracy:  0.4547317073170732\n",
            "iteration:  90\n",
            "[7 2 7 ... 0 4 7] [7 2 4 ... 3 2 8]\n",
            "accuracy:  0.48360975609756096\n",
            "iteration:  100\n",
            "[9 2 4 ... 0 4 8] [7 2 4 ... 3 2 8]\n",
            "accuracy:  0.5119024390243903\n",
            "iteration:  110\n",
            "[9 2 4 ... 0 4 8] [7 2 4 ... 3 2 8]\n",
            "accuracy:  0.5398536585365854\n",
            "iteration:  120\n",
            "[9 2 4 ... 3 4 8] [7 2 4 ... 3 2 8]\n",
            "accuracy:  0.5664390243902439\n",
            "iteration:  130\n",
            "[9 2 4 ... 3 4 8] [7 2 4 ... 3 2 8]\n",
            "accuracy:  0.5921951219512195\n",
            "iteration:  140\n",
            "[9 2 4 ... 3 4 8] [7 2 4 ... 3 2 8]\n",
            "accuracy:  0.611780487804878\n",
            "iteration:  150\n",
            "[9 2 4 ... 3 4 8] [7 2 4 ... 3 2 8]\n",
            "accuracy:  0.6293170731707317\n",
            "iteration:  160\n",
            "[9 2 4 ... 3 4 8] [7 2 4 ... 3 2 8]\n",
            "accuracy:  0.6463658536585366\n",
            "iteration:  170\n",
            "[9 2 4 ... 3 4 8] [7 2 4 ... 3 2 8]\n",
            "accuracy:  0.6608048780487805\n",
            "iteration:  180\n",
            "[9 2 4 ... 3 4 8] [7 2 4 ... 3 2 8]\n",
            "accuracy:  0.6745121951219513\n",
            "iteration:  190\n",
            "[9 2 4 ... 3 4 8] [7 2 4 ... 3 2 8]\n",
            "accuracy:  0.686609756097561\n",
            "iteration:  200\n",
            "[7 2 4 ... 3 4 8] [7 2 4 ... 3 2 8]\n",
            "accuracy:  0.6974878048780487\n",
            "iteration:  210\n",
            "[7 2 4 ... 3 9 8] [7 2 4 ... 3 2 8]\n",
            "accuracy:  0.7068536585365853\n",
            "iteration:  220\n",
            "[7 2 4 ... 3 9 8] [7 2 4 ... 3 2 8]\n",
            "accuracy:  0.7165365853658536\n",
            "iteration:  230\n",
            "[7 2 4 ... 5 9 8] [7 2 4 ... 3 2 8]\n",
            "accuracy:  0.7243414634146341\n",
            "iteration:  240\n",
            "[7 2 4 ... 5 9 8] [7 2 4 ... 3 2 8]\n",
            "accuracy:  0.7319512195121951\n",
            "iteration:  250\n",
            "[7 2 4 ... 5 7 8] [7 2 4 ... 3 2 8]\n",
            "accuracy:  0.7395853658536585\n",
            "iteration:  260\n",
            "[7 2 4 ... 5 7 8] [7 2 4 ... 3 2 8]\n",
            "accuracy:  0.7459512195121951\n",
            "iteration:  270\n",
            "[7 2 4 ... 5 7 8] [7 2 4 ... 3 2 8]\n",
            "accuracy:  0.7514878048780488\n",
            "iteration:  280\n",
            "[7 2 4 ... 5 7 8] [7 2 4 ... 3 2 8]\n",
            "accuracy:  0.7569024390243903\n",
            "iteration:  290\n",
            "[7 2 4 ... 5 7 8] [7 2 4 ... 3 2 8]\n",
            "accuracy:  0.7621463414634146\n",
            "iteration:  300\n",
            "[7 2 4 ... 5 7 8] [7 2 4 ... 3 2 8]\n",
            "accuracy:  0.7677317073170732\n",
            "iteration:  310\n",
            "[7 2 4 ... 5 7 8] [7 2 4 ... 3 2 8]\n",
            "accuracy:  0.7724390243902439\n",
            "iteration:  320\n",
            "[7 2 4 ... 5 7 8] [7 2 4 ... 3 2 8]\n",
            "accuracy:  0.7765853658536586\n",
            "iteration:  330\n",
            "[7 2 4 ... 5 7 8] [7 2 4 ... 3 2 8]\n",
            "accuracy:  0.7811951219512195\n",
            "iteration:  340\n",
            "[7 2 4 ... 5 7 8] [7 2 4 ... 3 2 8]\n",
            "accuracy:  0.786219512195122\n",
            "iteration:  350\n",
            "[7 2 4 ... 5 7 8] [7 2 4 ... 3 2 8]\n",
            "accuracy:  0.7902439024390244\n",
            "iteration:  360\n",
            "[7 2 4 ... 5 7 8] [7 2 4 ... 3 2 8]\n",
            "accuracy:  0.7940731707317074\n",
            "iteration:  370\n",
            "[7 2 4 ... 5 7 8] [7 2 4 ... 3 2 8]\n",
            "accuracy:  0.7972682926829269\n",
            "iteration:  380\n",
            "[7 2 4 ... 5 7 8] [7 2 4 ... 3 2 8]\n",
            "accuracy:  0.8007317073170732\n",
            "iteration:  390\n",
            "[7 2 4 ... 5 7 8] [7 2 4 ... 3 2 8]\n",
            "accuracy:  0.8042439024390244\n",
            "iteration:  400\n",
            "[7 2 4 ... 5 7 8] [7 2 4 ... 3 2 8]\n",
            "accuracy:  0.8075853658536586\n",
            "iteration:  410\n",
            "[7 2 4 ... 5 7 8] [7 2 4 ... 3 2 8]\n",
            "accuracy:  0.8108536585365854\n",
            "iteration:  420\n",
            "[7 2 4 ... 5 7 8] [7 2 4 ... 3 2 8]\n",
            "accuracy:  0.8134634146341463\n",
            "iteration:  430\n",
            "[7 2 4 ... 3 7 8] [7 2 4 ... 3 2 8]\n",
            "accuracy:  0.8162926829268292\n",
            "iteration:  440\n",
            "[7 2 4 ... 3 7 8] [7 2 4 ... 3 2 8]\n",
            "accuracy:  0.818780487804878\n",
            "iteration:  450\n",
            "[7 2 4 ... 3 7 8] [7 2 4 ... 3 2 8]\n",
            "accuracy:  0.8209512195121951\n",
            "iteration:  460\n",
            "[7 2 4 ... 3 7 8] [7 2 4 ... 3 2 8]\n",
            "accuracy:  0.8233658536585365\n",
            "iteration:  470\n",
            "[7 2 4 ... 3 7 8] [7 2 4 ... 3 2 8]\n",
            "accuracy:  0.8256829268292682\n",
            "iteration:  480\n",
            "[7 2 4 ... 3 7 8] [7 2 4 ... 3 2 8]\n",
            "accuracy:  0.8281219512195122\n",
            "iteration:  490\n",
            "[7 2 4 ... 3 7 8] [7 2 4 ... 3 2 8]\n",
            "accuracy:  0.8304878048780487\n"
          ]
        }
      ]
    },
    {
      "cell_type": "code",
      "source": [
        "def make_predictions(x, w1, b1, w2, b2):\n",
        "    _, _, _, a2 = forward(w1, b1, w2, b2, x)\n",
        "    predictions = get_predict(a2)\n",
        "    return predictions\n",
        "\n",
        "def test_prediction(index, w1, b1, w2, b2):\n",
        "    current_image = x_train[:, index, None]\n",
        "    prediction = make_predictions(x_train[:, index, None], w1, b1, w2, b2)\n",
        "    label = y_train[index]\n",
        "    print(\"Prediction: \", prediction)\n",
        "    print(\"Label: \", label)\n",
        "\n",
        "    current_image = current_image.reshape((28, 28)) * 255\n",
        "    plt.gray()\n",
        "    plt.imshow(current_image, interpolation='nearest')\n",
        "    plt.show()\n",
        "\n",
        "# Test predictions on a few samples\n",
        "for i in range(4):\n",
        "    test_prediction(i, w1, b1, w2, b2)"
      ],
      "metadata": {
        "colab": {
          "base_uri": "https://localhost:8080/",
          "height": 1000
        },
        "id": "kRW3-8BYsZAD",
        "outputId": "4eb19059-68b3-4cd2-fd86-a432f58ef629"
      },
      "execution_count": 32,
      "outputs": [
        {
          "output_type": "stream",
          "name": "stdout",
          "text": [
            "Prediction:  [7]\n",
            "Label:  7\n"
          ]
        },
        {
          "output_type": "display_data",
          "data": {
            "text/plain": [
              "<Figure size 640x480 with 1 Axes>"
            ],
            "image/png": "[encoded data removed]"
          },
          "metadata": {}
        },
        {
          "output_type": "stream",
          "name": "stdout",
          "text": [
            "Prediction:  [2]\n",
            "Label:  2\n"
          ]
        },
        {
          "output_type": "display_data",
          "data": {
            "text/plain": [
              "<Figure size 640x480 with 1 Axes>"
            ],
            "image/png": "[encoded data removed]"
          },
          "metadata": {}
        },
        {
          "output_type": "stream",
          "name": "stdout",
          "text": [
            "Prediction:  [4]\n",
            "Label:  4\n"
          ]
        },
        {
          "output_type": "display_data",
          "data": {
            "text/plain": [
              "<Figure size 640x480 with 1 Axes>"
            ],
            "image/png": "[encoded data removed]"
          },
          "metadata": {}
        },
        {
          "output_type": "stream",
          "name": "stdout",
          "text": [
            "Prediction:  [8]\n",
            "Label:  8\n"
          ]
        },
        {
          "output_type": "display_data",
          "data": {
            "text/plain": [
              "<Figure size 640x480 with 1 Axes>"
            ],
            "image/png": "[encoded data removed]"
          },
          "metadata": {}
        }
      ]
    }
  ]
}